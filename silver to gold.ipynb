{
 "cells": [
  {
   "cell_type": "code",
   "execution_count": 0,
   "metadata": {
    "application/vnd.databricks.v1+cell": {
     "cellMetadata": {
      "byteLimit": 2048000,
      "rowLimit": 10000
     },
     "inputWidgets": {},
     "nuid": "2319bdc6-dc70-44a9-b6fb-6ae38e308f01",
     "showTitle": false,
     "title": ""
    }
   },
   "outputs": [
    {
     "output_type": "execute_result",
     "data": {
      "text/plain": [
       "[FileInfo(path='dbfs:/mnt/ankandatalakesilverlayer/sales/', name='sales/', size=0, modificationTime=1727043369000)]"
      ]
     },
     "execution_count": 1,
     "metadata": {},
     "output_type": "execute_result"
    }
   ],
   "source": [
    "dbutils.fs.ls(\"/mnt/ankandatalakesilverlayer\")"
   ]
  },
  {
   "cell_type": "code",
   "execution_count": 0,
   "metadata": {
    "application/vnd.databricks.v1+cell": {
     "cellMetadata": {
      "byteLimit": 2048000,
      "rowLimit": 10000
     },
     "inputWidgets": {},
     "nuid": "ffee0828-5b81-49e1-a9c4-329f9fd4fc0c",
     "showTitle": false,
     "title": ""
    }
   },
   "outputs": [
    {
     "output_type": "execute_result",
     "data": {
      "text/plain": [
       "[]"
      ]
     },
     "execution_count": 3,
     "metadata": {},
     "output_type": "execute_result"
    }
   ],
   "source": [
    "dbutils.fs.ls(\"/mnt/ankandatalakegoldlayer\")"
   ]
  },
  {
   "cell_type": "code",
   "execution_count": 0,
   "metadata": {
    "application/vnd.databricks.v1+cell": {
     "cellMetadata": {
      "byteLimit": 2048000,
      "rowLimit": 10000
     },
     "inputWidgets": {},
     "nuid": "d498a01b-8a95-4221-a3b2-62c92ef4149a",
     "showTitle": false,
     "title": ""
    }
   },
   "outputs": [],
   "source": [
    "input_path = \"/mnt/ankandatalakesilverlayer/sales/orders/\""
   ]
  },
  {
   "cell_type": "code",
   "execution_count": 0,
   "metadata": {
    "application/vnd.databricks.v1+cell": {
     "cellMetadata": {
      "byteLimit": 2048000,
      "rowLimit": 10000
     },
     "inputWidgets": {},
     "nuid": "c8258c40-8916-499c-bf7a-6ce8e6401fc4",
     "showTitle": false,
     "title": ""
    }
   },
   "outputs": [
    {
     "output_type": "display_data",
     "data": {
      "text/html": [
       "<style scoped>\n",
       "  .table-result-container {\n",
       "    max-height: 300px;\n",
       "    overflow: auto;\n",
       "  }\n",
       "  table, th, td {\n",
       "    border: 1px solid black;\n",
       "    border-collapse: collapse;\n",
       "  }\n",
       "  th, td {\n",
       "    padding: 5px;\n",
       "  }\n",
       "  th {\n",
       "    text-align: left;\n",
       "  }\n",
       "</style><div class='table-result-container'><table class='table-result'><thead style='background-color: white'><tr><th>order_id</th><th>customer_id</th><th>order_status</th><th>order_date</th><th>required_date</th><th>shipped_date</th><th>store_id</th><th>staff_id</th></tr></thead><tbody><tr><td>1</td><td>1</td><td>1</td><td>2024-09-01</td><td>2024-09-05</td><td>2024-09-03</td><td>1</td><td>1</td></tr><tr><td>2</td><td>2</td><td>2</td><td>2024-09-02</td><td>2024-09-06</td><td>null</td><td>1</td><td>2</td></tr></tbody></table></div>"
      ]
     },
     "metadata": {
      "application/vnd.databricks.v1+output": {
       "addedWidgets": {},
       "aggData": [],
       "aggError": "",
       "aggOverflow": false,
       "aggSchema": [],
       "aggSeriesLimitReached": false,
       "aggType": "",
       "arguments": {},
       "columnCustomDisplayInfos": {},
       "data": [
        [
         1,
         1,
         1,
         "2024-09-01",
         "2024-09-05",
         "2024-09-03",
         1,
         1
        ],
        [
         2,
         2,
         2,
         "2024-09-02",
         "2024-09-06",
         null,
         1,
         2
        ]
       ],
       "datasetInfos": [],
       "dbfsResultPath": null,
       "isJsonSchema": true,
       "metadata": {},
       "overflow": false,
       "plotOptions": {
        "customPlotOptions": {},
        "displayType": "table",
        "pivotAggregation": null,
        "pivotColumns": null,
        "xColumns": null,
        "yColumns": null
       },
       "removedWidgets": [],
       "schema": [
        {
         "metadata": "{}",
         "name": "order_id",
         "type": "\"integer\""
        },
        {
         "metadata": "{}",
         "name": "customer_id",
         "type": "\"integer\""
        },
        {
         "metadata": "{}",
         "name": "order_status",
         "type": "\"integer\""
        },
        {
         "metadata": "{}",
         "name": "order_date",
         "type": "\"string\""
        },
        {
         "metadata": "{}",
         "name": "required_date",
         "type": "\"string\""
        },
        {
         "metadata": "{}",
         "name": "shipped_date",
         "type": "\"string\""
        },
        {
         "metadata": "{}",
         "name": "store_id",
         "type": "\"integer\""
        },
        {
         "metadata": "{}",
         "name": "staff_id",
         "type": "\"integer\""
        }
       ],
       "type": "table"
      }
     },
     "output_type": "display_data"
    }
   ],
   "source": [
    "df = spark.read.format(\"delta\").load(input_path)\n",
    "display(df)"
   ]
  },
  {
   "cell_type": "code",
   "execution_count": 0,
   "metadata": {
    "application/vnd.databricks.v1+cell": {
     "cellMetadata": {
      "byteLimit": 2048000,
      "rowLimit": 10000
     },
     "inputWidgets": {},
     "nuid": "437a5299-bbbc-4de4-9cca-5b09914ddde8",
     "showTitle": false,
     "title": ""
    }
   },
   "outputs": [
    {
     "output_type": "display_data",
     "data": {
      "text/html": [
       "<style scoped>\n",
       "  .table-result-container {\n",
       "    max-height: 300px;\n",
       "    overflow: auto;\n",
       "  }\n",
       "  table, th, td {\n",
       "    border: 1px solid black;\n",
       "    border-collapse: collapse;\n",
       "  }\n",
       "  th, td {\n",
       "    padding: 5px;\n",
       "  }\n",
       "  th {\n",
       "    text-align: left;\n",
       "  }\n",
       "</style><div class='table-result-container'><table class='table-result'><thead style='background-color: white'><tr><th>order_id</th><th>customer_id</th><th>order_status</th><th>order_date</th><th>required_date</th><th>shipped_date</th><th>store_id</th><th>staff_id</th></tr></thead><tbody><tr><td>1</td><td>1</td><td>1</td><td>2024-09-01</td><td>2024-09-05</td><td>2024-09-03</td><td>1</td><td>1</td></tr><tr><td>2</td><td>2</td><td>2</td><td>2024-09-02</td><td>2024-09-06</td><td>null</td><td>1</td><td>2</td></tr></tbody></table></div>"
      ]
     },
     "metadata": {
      "application/vnd.databricks.v1+output": {
       "addedWidgets": {},
       "aggData": [],
       "aggError": "",
       "aggOverflow": false,
       "aggSchema": [],
       "aggSeriesLimitReached": false,
       "aggType": "",
       "arguments": {},
       "columnCustomDisplayInfos": {},
       "data": [
        [
         1,
         1,
         1,
         "2024-09-01",
         "2024-09-05",
         "2024-09-03",
         1,
         1
        ],
        [
         2,
         2,
         2,
         "2024-09-02",
         "2024-09-06",
         null,
         1,
         2
        ]
       ],
       "datasetInfos": [],
       "dbfsResultPath": null,
       "isJsonSchema": true,
       "metadata": {},
       "overflow": false,
       "plotOptions": {
        "customPlotOptions": {},
        "displayType": "table",
        "pivotAggregation": null,
        "pivotColumns": null,
        "xColumns": null,
        "yColumns": null
       },
       "removedWidgets": [],
       "schema": [
        {
         "metadata": "{}",
         "name": "order_id",
         "type": "\"integer\""
        },
        {
         "metadata": "{}",
         "name": "customer_id",
         "type": "\"integer\""
        },
        {
         "metadata": "{}",
         "name": "order_status",
         "type": "\"integer\""
        },
        {
         "metadata": "{}",
         "name": "order_date",
         "type": "\"string\""
        },
        {
         "metadata": "{}",
         "name": "required_date",
         "type": "\"string\""
        },
        {
         "metadata": "{}",
         "name": "shipped_date",
         "type": "\"string\""
        },
        {
         "metadata": "{}",
         "name": "store_id",
         "type": "\"integer\""
        },
        {
         "metadata": "{}",
         "name": "staff_id",
         "type": "\"integer\""
        }
       ],
       "type": "table"
      }
     },
     "output_type": "display_data"
    }
   ],
   "source": [
    "from pyspark.sql.functions import col\n",
    "\n",
    "# Function to modify column names based on the presence of an underscore\n",
    "def modify_column_names(df):\n",
    "    new_columns = []\n",
    "    for column_name in df.columns:\n",
    "        # Check if the column name contains an underscore\n",
    "        if \"_\" not in column_name:\n",
    "            # Split the column name based on uppercase letters to identify parts\n",
    "            parts = re.findall('[A-Z][^A-Z]*', column_name)\n",
    "            # If the column name has more than one part, join them with an underscore\n",
    "            if len(parts) > 1:\n",
    "                new_column_name = \"_\".join(parts).lower()\n",
    "            else:\n",
    "                new_column_name = column_name.lower()\n",
    "        else:\n",
    "            new_column_name = column_name\n",
    "        new_columns.append(new_column_name)\n",
    "    \n",
    "    # Rename the columns in the DataFrame\n",
    "    for old_name, new_name in zip(df.columns, new_columns):\n",
    "        df = df.withColumnRenamed(old_name, new_name)\n",
    "    \n",
    "    return df\n",
    "\n",
    "# Modify column names in the DataFrame\n",
    "df_columns = modify_column_names(df)\n",
    "display(df_columns)"
   ]
  },
  {
   "cell_type": "code",
   "execution_count": 0,
   "metadata": {
    "application/vnd.databricks.v1+cell": {
     "cellMetadata": {
      "byteLimit": 2048000,
      "rowLimit": 10000
     },
     "inputWidgets": {},
     "nuid": "f61b4765-7724-436c-acb3-e562ec4eaeaa",
     "showTitle": false,
     "title": ""
    }
   },
   "outputs": [
    {
     "output_type": "display_data",
     "data": {
      "text/html": [
       "<style scoped>\n",
       "  .table-result-container {\n",
       "    max-height: 300px;\n",
       "    overflow: auto;\n",
       "  }\n",
       "  table, th, td {\n",
       "    border: 1px solid black;\n",
       "    border-collapse: collapse;\n",
       "  }\n",
       "  th, td {\n",
       "    padding: 5px;\n",
       "  }\n",
       "  th {\n",
       "    text-align: left;\n",
       "  }\n",
       "</style><div class='table-result-container'><table class='table-result'><thead style='background-color: white'><tr><th>order_id</th><th>customer_id</th><th>order_status</th><th>order_date</th><th>required_date</th><th>shipped_date</th><th>store_id</th><th>staff_id</th></tr></thead><tbody><tr><td>1</td><td>1</td><td>1</td><td>2024-09-01</td><td>2024-09-05</td><td>2024-09-03</td><td>1</td><td>1</td></tr><tr><td>2</td><td>2</td><td>2</td><td>2024-09-02</td><td>2024-09-06</td><td>2024-09-06</td><td>1</td><td>2</td></tr></tbody></table></div>"
      ]
     },
     "metadata": {
      "application/vnd.databricks.v1+output": {
       "addedWidgets": {},
       "aggData": [],
       "aggError": "",
       "aggOverflow": false,
       "aggSchema": [],
       "aggSeriesLimitReached": false,
       "aggType": "",
       "arguments": {},
       "columnCustomDisplayInfos": {},
       "data": [
        [
         1,
         1,
         1,
         "2024-09-01",
         "2024-09-05",
         "2024-09-03",
         1,
         1
        ],
        [
         2,
         2,
         2,
         "2024-09-02",
         "2024-09-06",
         "2024-09-06",
         1,
         2
        ]
       ],
       "datasetInfos": [],
       "dbfsResultPath": null,
       "isJsonSchema": true,
       "metadata": {},
       "overflow": false,
       "plotOptions": {
        "customPlotOptions": {},
        "displayType": "table",
        "pivotAggregation": null,
        "pivotColumns": null,
        "xColumns": null,
        "yColumns": null
       },
       "removedWidgets": [],
       "schema": [
        {
         "metadata": "{}",
         "name": "order_id",
         "type": "\"integer\""
        },
        {
         "metadata": "{}",
         "name": "customer_id",
         "type": "\"integer\""
        },
        {
         "metadata": "{}",
         "name": "order_status",
         "type": "\"integer\""
        },
        {
         "metadata": "{}",
         "name": "order_date",
         "type": "\"string\""
        },
        {
         "metadata": "{}",
         "name": "required_date",
         "type": "\"string\""
        },
        {
         "metadata": "{}",
         "name": "shipped_date",
         "type": "\"string\""
        },
        {
         "metadata": "{}",
         "name": "store_id",
         "type": "\"integer\""
        },
        {
         "metadata": "{}",
         "name": "staff_id",
         "type": "\"integer\""
        }
       ],
       "type": "table"
      }
     },
     "output_type": "display_data"
    }
   ],
   "source": [
    "from pyspark.sql.functions import coalesce\n",
    "\n",
    "# Replace null values in 'shipped_date' with values from 'required_date'\n",
    "df_columns = df_columns.withColumn(\"shipped_date\", coalesce(df_columns[\"shipped_date\"], df_columns[\"required_date\"]))\n",
    "\n",
    "# Assuming a similar logic needs to be applied to other columns, repeat the process as needed\n",
    "# Example for another pair of columns: 'columnA' and 'columnB'\n",
    "# df_columns = df_columns.withColumn(\"columnA\", coalesce(df_columns[\"columnA\"], df_columns[\"columnB\"]))\n",
    "\n",
    "display(df_columns)"
   ]
  },
  {
   "cell_type": "markdown",
   "metadata": {
    "application/vnd.databricks.v1+cell": {
     "cellMetadata": {
      "byteLimit": 2048000,
      "rowLimit": 10000
     },
     "inputWidgets": {},
     "nuid": "fc22682b-61ff-4a0d-8b6b-452af172946d",
     "showTitle": false,
     "title": ""
    }
   },
   "source": [
    "Doing Transformation for all tables"
   ]
  },
  {
   "cell_type": "code",
   "execution_count": 0,
   "metadata": {
    "application/vnd.databricks.v1+cell": {
     "cellMetadata": {
      "byteLimit": 2048000,
      "rowLimit": 10000
     },
     "inputWidgets": {},
     "nuid": "a4762e11-6b77-4b0a-b97c-2d29853a4e8d",
     "showTitle": false,
     "title": ""
    }
   },
   "outputs": [
    {
     "output_type": "execute_result",
     "data": {
      "text/plain": [
       "['customers', 'order_items', 'orders', 'stores']"
      ]
     },
     "execution_count": 5,
     "metadata": {},
     "output_type": "execute_result"
    }
   ],
   "source": [
    "table_name = []\n",
    "for i in dbutils.fs.ls('/mnt/ankandatalakesilverlayer/sales/'):\n",
    "    table_name.append(i.name.rstrip('/'))\n",
    "\n",
    "table_name    "
   ]
  },
  {
   "cell_type": "code",
   "execution_count": 0,
   "metadata": {
    "application/vnd.databricks.v1+cell": {
     "cellMetadata": {
      "byteLimit": 2048000,
      "rowLimit": 10000
     },
     "inputWidgets": {},
     "nuid": "e25f0580-4c93-410a-9e85-dc62303cb411",
     "showTitle": false,
     "title": ""
    }
   },
   "outputs": [
    {
     "output_type": "display_data",
     "data": {
      "text/html": [
       "<style scoped>\n",
       "  .table-result-container {\n",
       "    max-height: 300px;\n",
       "    overflow: auto;\n",
       "  }\n",
       "  table, th, td {\n",
       "    border: 1px solid black;\n",
       "    border-collapse: collapse;\n",
       "  }\n",
       "  th, td {\n",
       "    padding: 5px;\n",
       "  }\n",
       "  th {\n",
       "    text-align: left;\n",
       "  }\n",
       "</style><div class='table-result-container'><table class='table-result'><thead style='background-color: white'><tr><th>customer_id</th><th>first_name</th><th>last_name</th><th>phone</th><th>email</th><th>street</th><th>city</th><th>state</th><th>zip_code</th></tr></thead><tbody><tr><td>1</td><td>John</td><td>Doe</td><td>123-456-7890</td><td>john.doe@example.com</td><td>123 Main St</td><td>Anytown</td><td>CA</td><td>12345</td></tr><tr><td>2</td><td>Jane</td><td>Smith</td><td>555-555-5555</td><td>jane.smith@example.com</td><td>456 Elm St</td><td>Othertown</td><td>NY</td><td>67890</td></tr></tbody></table></div>"
      ]
     },
     "metadata": {
      "application/vnd.databricks.v1+output": {
       "addedWidgets": {},
       "aggData": [],
       "aggError": "",
       "aggOverflow": false,
       "aggSchema": [],
       "aggSeriesLimitReached": false,
       "aggType": "",
       "arguments": {},
       "columnCustomDisplayInfos": {},
       "data": [
        [
         "1",
         "John",
         "Doe",
         "123-456-7890",
         "john.doe@example.com",
         "123 Main St",
         "Anytown",
         "CA",
         "12345"
        ],
        [
         "2",
         "Jane",
         "Smith",
         "555-555-5555",
         "jane.smith@example.com",
         "456 Elm St",
         "Othertown",
         "NY",
         "67890"
        ]
       ],
       "datasetInfos": [],
       "dbfsResultPath": null,
       "isJsonSchema": true,
       "metadata": {},
       "overflow": false,
       "plotOptions": {
        "customPlotOptions": {},
        "displayType": "table",
        "pivotAggregation": null,
        "pivotColumns": null,
        "xColumns": null,
        "yColumns": null
       },
       "removedWidgets": [],
       "schema": [
        {
         "metadata": "{}",
         "name": "customer_id",
         "type": "\"string\""
        },
        {
         "metadata": "{}",
         "name": "first_name",
         "type": "\"string\""
        },
        {
         "metadata": "{}",
         "name": "last_name",
         "type": "\"string\""
        },
        {
         "metadata": "{}",
         "name": "phone",
         "type": "\"string\""
        },
        {
         "metadata": "{}",
         "name": "email",
         "type": "\"string\""
        },
        {
         "metadata": "{}",
         "name": "street",
         "type": "\"string\""
        },
        {
         "metadata": "{}",
         "name": "city",
         "type": "\"string\""
        },
        {
         "metadata": "{}",
         "name": "state",
         "type": "\"string\""
        },
        {
         "metadata": "{}",
         "name": "zip_code",
         "type": "\"string\""
        }
       ],
       "type": "table"
      }
     },
     "output_type": "display_data"
    },
    {
     "output_type": "display_data",
     "data": {
      "text/html": [
       "<style scoped>\n",
       "  .table-result-container {\n",
       "    max-height: 300px;\n",
       "    overflow: auto;\n",
       "  }\n",
       "  table, th, td {\n",
       "    border: 1px solid black;\n",
       "    border-collapse: collapse;\n",
       "  }\n",
       "  th, td {\n",
       "    padding: 5px;\n",
       "  }\n",
       "  th {\n",
       "    text-align: left;\n",
       "  }\n",
       "</style><div class='table-result-container'><table class='table-result'><thead style='background-color: white'><tr><th>order_id</th><th>item_id</th><th>product_id</th><th>quantity</th><th>list_price</th><th>discount</th></tr></thead><tbody><tr><td>1</td><td>1</td><td>1</td><td>2.00</td><td>1200.00</td><td>0.00</td></tr><tr><td>1</td><td>2</td><td>3</td><td>1.00</td><td>50.00</td><td>0.10</td></tr><tr><td>2</td><td>1</td><td>2</td><td>1.00</td><td>1400.00</td><td>0.05</td></tr></tbody></table></div>"
      ]
     },
     "metadata": {
      "application/vnd.databricks.v1+output": {
       "addedWidgets": {},
       "aggData": [],
       "aggError": "",
       "aggOverflow": false,
       "aggSchema": [],
       "aggSeriesLimitReached": false,
       "aggType": "",
       "arguments": {},
       "columnCustomDisplayInfos": {},
       "data": [
        [
         1,
         1,
         1,
         "2.00",
         "1200.00",
         "0.00"
        ],
        [
         1,
         2,
         3,
         "1.00",
         "50.00",
         "0.10"
        ],
        [
         2,
         1,
         2,
         "1.00",
         "1400.00",
         "0.05"
        ]
       ],
       "datasetInfos": [],
       "dbfsResultPath": null,
       "isJsonSchema": true,
       "metadata": {},
       "overflow": false,
       "plotOptions": {
        "customPlotOptions": {},
        "displayType": "table",
        "pivotAggregation": null,
        "pivotColumns": null,
        "xColumns": null,
        "yColumns": null
       },
       "removedWidgets": [],
       "schema": [
        {
         "metadata": "{}",
         "name": "order_id",
         "type": "\"integer\""
        },
        {
         "metadata": "{}",
         "name": "item_id",
         "type": "\"integer\""
        },
        {
         "metadata": "{}",
         "name": "product_id",
         "type": "\"integer\""
        },
        {
         "metadata": "{}",
         "name": "quantity",
         "type": "\"decimal(12,2)\""
        },
        {
         "metadata": "{}",
         "name": "list_price",
         "type": "\"decimal(10,2)\""
        },
        {
         "metadata": "{}",
         "name": "discount",
         "type": "\"decimal(4,2)\""
        }
       ],
       "type": "table"
      }
     },
     "output_type": "display_data"
    },
    {
     "output_type": "display_data",
     "data": {
      "text/html": [
       "<style scoped>\n",
       "  .table-result-container {\n",
       "    max-height: 300px;\n",
       "    overflow: auto;\n",
       "  }\n",
       "  table, th, td {\n",
       "    border: 1px solid black;\n",
       "    border-collapse: collapse;\n",
       "  }\n",
       "  th, td {\n",
       "    padding: 5px;\n",
       "  }\n",
       "  th {\n",
       "    text-align: left;\n",
       "  }\n",
       "</style><div class='table-result-container'><table class='table-result'><thead style='background-color: white'><tr><th>order_id</th><th>customer_id</th><th>order_status</th><th>order_date</th><th>required_date</th><th>shipped_date</th><th>store_id</th><th>staff_id</th></tr></thead><tbody><tr><td>1</td><td>1</td><td>1</td><td>2024-09-01</td><td>2024-09-05</td><td>2024-09-03</td><td>1</td><td>1</td></tr><tr><td>2</td><td>2</td><td>2</td><td>2024-09-02</td><td>2024-09-06</td><td>1</td><td>1</td><td>2</td></tr></tbody></table></div>"
      ]
     },
     "metadata": {
      "application/vnd.databricks.v1+output": {
       "addedWidgets": {},
       "aggData": [],
       "aggError": "",
       "aggOverflow": false,
       "aggSchema": [],
       "aggSeriesLimitReached": false,
       "aggType": "",
       "arguments": {},
       "columnCustomDisplayInfos": {},
       "data": [
        [
         1,
         1,
         "1",
         "2024-09-01",
         "2024-09-05",
         "2024-09-03",
         1,
         1
        ],
        [
         2,
         2,
         "2",
         "2024-09-02",
         "2024-09-06",
         "1",
         1,
         2
        ]
       ],
       "datasetInfos": [],
       "dbfsResultPath": null,
       "isJsonSchema": true,
       "metadata": {},
       "overflow": false,
       "plotOptions": {
        "customPlotOptions": {},
        "displayType": "table",
        "pivotAggregation": null,
        "pivotColumns": null,
        "xColumns": null,
        "yColumns": null
       },
       "removedWidgets": [],
       "schema": [
        {
         "metadata": "{}",
         "name": "order_id",
         "type": "\"integer\""
        },
        {
         "metadata": "{}",
         "name": "customer_id",
         "type": "\"integer\""
        },
        {
         "metadata": "{}",
         "name": "order_status",
         "type": "\"string\""
        },
        {
         "metadata": "{}",
         "name": "order_date",
         "type": "\"string\""
        },
        {
         "metadata": "{}",
         "name": "required_date",
         "type": "\"string\""
        },
        {
         "metadata": "{}",
         "name": "shipped_date",
         "type": "\"string\""
        },
        {
         "metadata": "{}",
         "name": "store_id",
         "type": "\"integer\""
        },
        {
         "metadata": "{}",
         "name": "staff_id",
         "type": "\"integer\""
        }
       ],
       "type": "table"
      }
     },
     "output_type": "display_data"
    },
    {
     "output_type": "display_data",
     "data": {
      "text/html": [
       "<style scoped>\n",
       "  .table-result-container {\n",
       "    max-height: 300px;\n",
       "    overflow: auto;\n",
       "  }\n",
       "  table, th, td {\n",
       "    border: 1px solid black;\n",
       "    border-collapse: collapse;\n",
       "  }\n",
       "  th, td {\n",
       "    padding: 5px;\n",
       "  }\n",
       "  th {\n",
       "    text-align: left;\n",
       "  }\n",
       "</style><div class='table-result-container'><table class='table-result'><thead style='background-color: white'><tr><th>store_id</th><th>store_name</th><th>phone</th><th>email</th><th>street</th><th>city</th><th>state</th><th>zip_code</th></tr></thead><tbody><tr><td>1</td><td>Downtown Bike Store</td><td>123-456-7890</td><td>downtown@example.com</td><td>123 Main St</td><td>Anytown</td><td>CA</td><td>12345</td></tr><tr><td>2</td><td>Uptown Bike Store</td><td>555-555-5555</td><td>uptown@example.com</td><td>456 Elm St</td><td>Othertown</td><td>NY</td><td>67890</td></tr></tbody></table></div>"
      ]
     },
     "metadata": {
      "application/vnd.databricks.v1+output": {
       "addedWidgets": {},
       "aggData": [],
       "aggError": "",
       "aggOverflow": false,
       "aggSchema": [],
       "aggSeriesLimitReached": false,
       "aggType": "",
       "arguments": {},
       "columnCustomDisplayInfos": {},
       "data": [
        [
         "1",
         "Downtown Bike Store",
         "123-456-7890",
         "downtown@example.com",
         "123 Main St",
         "Anytown",
         "CA",
         "12345"
        ],
        [
         "2",
         "Uptown Bike Store",
         "555-555-5555",
         "uptown@example.com",
         "456 Elm St",
         "Othertown",
         "NY",
         "67890"
        ]
       ],
       "datasetInfos": [],
       "dbfsResultPath": null,
       "isJsonSchema": true,
       "metadata": {},
       "overflow": false,
       "plotOptions": {
        "customPlotOptions": {},
        "displayType": "table",
        "pivotAggregation": null,
        "pivotColumns": null,
        "xColumns": null,
        "yColumns": null
       },
       "removedWidgets": [],
       "schema": [
        {
         "metadata": "{}",
         "name": "store_id",
         "type": "\"string\""
        },
        {
         "metadata": "{}",
         "name": "store_name",
         "type": "\"string\""
        },
        {
         "metadata": "{}",
         "name": "phone",
         "type": "\"string\""
        },
        {
         "metadata": "{}",
         "name": "email",
         "type": "\"string\""
        },
        {
         "metadata": "{}",
         "name": "street",
         "type": "\"string\""
        },
        {
         "metadata": "{}",
         "name": "city",
         "type": "\"string\""
        },
        {
         "metadata": "{}",
         "name": "state",
         "type": "\"string\""
        },
        {
         "metadata": "{}",
         "name": "zip_code",
         "type": "\"string\""
        }
       ],
       "type": "table"
      }
     },
     "output_type": "display_data"
    }
   ],
   "source": [
    "from pyspark.sql.functions import coalesce, col, lit\n",
    "import re\n",
    "\n",
    "# Function to determine the replacement value based on column data type\n",
    "def get_replacement_value(df, column_index):\n",
    "    # Get the column data type\n",
    "    column_type = df.dtypes[column_index][1]\n",
    "    \n",
    "    # Determine the replacement value based on the column data type\n",
    "    if re.search(\"int\", column_type):\n",
    "        return 0  # Default integer value\n",
    "    elif re.search(\"date|string\", column_type):\n",
    "        return \"\"  # Default string/date value\n",
    "    else:\n",
    "        return None  # For other data types, no replacement is performed\n",
    "\n",
    "# Function to apply modifications to all tables\n",
    "def modify_tables(table_names):\n",
    "    for table_name in table_names:\n",
    "        # Load the table\n",
    "        df = spark.read.format(\"delta\").load(f\"/mnt/ankandatalakesilverlayer/sales/{table_name}\")\n",
    "        \n",
    "        # Iterate through all columns to replace null values\n",
    "        for i in range(len(df.columns)):\n",
    "            # Skip the last column as there's no subsequent column to replace from\n",
    "            if i < len(df.columns) - 1:\n",
    "                replacement_value = get_replacement_value(df, i + 1)\n",
    "                # Replace null values in the current column with values from the subsequent column or a default value\n",
    "                if replacement_value is not None:\n",
    "                    df = df.withColumn(df.columns[i], coalesce(df[df.columns[i]], df[df.columns[i + 1]], lit(replacement_value)))\n",
    "                else:\n",
    "                    df = df.withColumn(df.columns[i], coalesce(df[df.columns[i]], df[df.columns[i + 1]]))\n",
    "        \n",
    "        # Display the modified DataFrame\n",
    "        display(df)\n",
    "\n",
    "# Get the list of table names\n",
    "table_names = [i.name.rstrip('/') for i in dbutils.fs.ls('/mnt/ankandatalakesilverlayer/sales/')]\n",
    "\n",
    "# Apply modifications to all tables\n",
    "modify_tables(table_names)"
   ]
  },
  {
   "cell_type": "code",
   "execution_count": 0,
   "metadata": {
    "application/vnd.databricks.v1+cell": {
     "cellMetadata": {
      "byteLimit": 2048000,
      "rowLimit": 10000
     },
     "inputWidgets": {},
     "nuid": "12be0601-17a8-4710-a4b1-51f6280f19e1",
     "showTitle": false,
     "title": ""
    }
   },
   "outputs": [
    {
     "output_type": "stream",
     "name": "stdout",
     "output_type": "stream",
     "text": [
      "Table: customers\nColumn: customer_id, Type: int\nColumn: first_name, Type: string\nColumn: last_name, Type: string\nColumn: phone, Type: string\nColumn: email, Type: string\nColumn: street, Type: string\nColumn: city, Type: string\nColumn: state, Type: string\nColumn: zip_code, Type: string\nTable: order_items\nColumn: order_id, Type: int\nColumn: item_id, Type: int\nColumn: product_id, Type: int\nColumn: quantity, Type: int\nColumn: list_price, Type: decimal(10,2)\nColumn: discount, Type: decimal(4,2)\nTable: orders\nColumn: order_id, Type: int\nColumn: customer_id, Type: int\nColumn: order_status, Type: int\nColumn: order_date, Type: string\nColumn: required_date, Type: string\nColumn: shipped_date, Type: string\nColumn: store_id, Type: int\nColumn: staff_id, Type: int\nTable: stores\nColumn: store_id, Type: int\nColumn: store_name, Type: string\nColumn: phone, Type: string\nColumn: email, Type: string\nColumn: street, Type: string\nColumn: city, Type: string\nColumn: state, Type: string\nColumn: zip_code, Type: string\n"
     ]
    }
   ],
   "source": [
    "# Function to print data types of all columns for each table\n",
    "def print_column_data_types(table_names):\n",
    "    for table_name in table_names:\n",
    "        # Load the table\n",
    "        df = spark.read.format(\"delta\").load(f\"/mnt/ankandatalakesilverlayer/sales/{table_name}\")\n",
    "        \n",
    "        # Print the table name\n",
    "        print(f\"Table: {table_name}\")\n",
    "        \n",
    "        # Print data types of all columns\n",
    "        for column_name, data_type in df.dtypes:\n",
    "            print(f\"Column: {column_name}, Type: {data_type}\")\n",
    "\n",
    "# Get the list of table names\n",
    "table_names = [i.name.rstrip('/') for i in dbutils.fs.ls('/mnt/ankandatalakesilverlayer/sales/')]\n",
    "\n",
    "# Print data types for all columns in each table\n",
    "print_column_data_types(table_names)"
   ]
  },
  {
   "cell_type": "code",
   "execution_count": 0,
   "metadata": {
    "application/vnd.databricks.v1+cell": {
     "cellMetadata": {
      "byteLimit": 2048000,
      "rowLimit": 10000
     },
     "inputWidgets": {},
     "nuid": "4b6ffb59-6b3d-44d7-8035-0071e1689cfd",
     "showTitle": false,
     "title": ""
    }
   },
   "outputs": [
    {
     "output_type": "stream",
     "name": "stdout",
     "output_type": "stream",
     "text": [
      "Before rectification:\nColumn: zip_code, Type: string\nColumn: order_date, Type: string\nColumn: required_date, Type: string\nColumn: shipped_date, Type: string\n\nAfter rectification:\nColumn: zip_code, Type: int\nColumn: order_date, Type: date\nColumn: required_date, Type: date\nColumn: shipped_date, Type: date\n"
     ]
    }
   ],
   "source": [
    "from pyspark.sql import DataFrame\n",
    "from pyspark.sql.functions import col\n",
    "from pyspark.sql.types import IntegerType, DateType, StringType\n",
    "import re\n",
    "\n",
    "def rectify_column_data_types(df: DataFrame) -> DataFrame:\n",
    "    # Define patterns for column names to identify their correct data types\n",
    "    int_patterns = [\"zip_code\", \"postal_code\"]\n",
    "    date_patterns = [\".*_date$\", \".*_time$\", \"timestamp\"]\n",
    "    \n",
    "    # Iterate through all columns to rectify their data types based on column names\n",
    "    for column_name, data_type in df.dtypes:\n",
    "        if any(re.search(pattern, column_name.lower()) for pattern in int_patterns) and data_type == \"string\":\n",
    "            # Cast column to IntegerType if it matches the integer pattern\n",
    "            df = df.withColumn(column_name, col(column_name).cast(IntegerType()))\n",
    "        elif any(re.search(pattern, column_name.lower()) for pattern in date_patterns) and data_type == \"string\":\n",
    "            # Cast column to DateType if it matches the date pattern\n",
    "            df = df.withColumn(column_name, col(column_name).cast(DateType()))\n",
    "    \n",
    "    return df\n",
    "\n",
    "def print_column_data_types(df: DataFrame):\n",
    "    for column_name, data_type in df.dtypes:\n",
    "        print(f\"Column: {column_name}, Type: {data_type}\")\n",
    "\n",
    "# Example usage\n",
    "if __name__ == \"__main__\":\n",
    "    # Assuming you have a SparkSession called 'spark'\n",
    "    # Create a sample DataFrame\n",
    "    data = [(\"12345\", \"2023-05-01\", \"2023-05-05\", \"2023-05-03\")]\n",
    "    columns = [\"zip_code\", \"order_date\", \"required_date\", \"shipped_date\"]\n",
    "    df = spark.createDataFrame(data, columns)\n",
    "    \n",
    "    print(\"Before rectification:\")\n",
    "    print_column_data_types(df)\n",
    "    \n",
    "    df = rectify_column_data_types(df)\n",
    "    \n",
    "    print(\"\\nAfter rectification:\")\n",
    "    print_column_data_types(df)"
   ]
  },
  {
   "cell_type": "code",
   "execution_count": 0,
   "metadata": {
    "application/vnd.databricks.v1+cell": {
     "cellMetadata": {
      "byteLimit": 2048000,
      "rowLimit": 10000
     },
     "inputWidgets": {},
     "nuid": "a642b87c-9324-4784-b4fb-6ac8a206f4de",
     "showTitle": false,
     "title": ""
    }
   },
   "outputs": [
    {
     "output_type": "stream",
     "name": "stdout",
     "output_type": "stream",
     "text": [
      "Processing table: customers\nSample data for customers:\n"
     ]
    },
    {
     "output_type": "display_data",
     "data": {
      "text/html": [
       "<style scoped>\n",
       "  .table-result-container {\n",
       "    max-height: 300px;\n",
       "    overflow: auto;\n",
       "  }\n",
       "  table, th, td {\n",
       "    border: 1px solid black;\n",
       "    border-collapse: collapse;\n",
       "  }\n",
       "  th, td {\n",
       "    padding: 5px;\n",
       "  }\n",
       "  th {\n",
       "    text-align: left;\n",
       "  }\n",
       "</style><div class='table-result-container'><table class='table-result'><thead style='background-color: white'><tr><th>customer_id</th><th>first_name</th><th>last_name</th><th>phone</th><th>email</th><th>street</th><th>city</th><th>state</th><th>zip_code</th></tr></thead><tbody><tr><td>1</td><td>John</td><td>Doe</td><td>123-456-7890</td><td>john.doe@example.com</td><td>123 Main St</td><td>Anytown</td><td>CA</td><td>12345</td></tr><tr><td>2</td><td>Jane</td><td>Smith</td><td>555-555-5555</td><td>jane.smith@example.com</td><td>456 Elm St</td><td>Othertown</td><td>NY</td><td>67890</td></tr></tbody></table></div>"
      ]
     },
     "metadata": {
      "application/vnd.databricks.v1+output": {
       "addedWidgets": {},
       "aggData": [],
       "aggError": "",
       "aggOverflow": false,
       "aggSchema": [],
       "aggSeriesLimitReached": false,
       "aggType": "",
       "arguments": {},
       "columnCustomDisplayInfos": {},
       "data": [
        [
         1,
         "John",
         "Doe",
         "123-456-7890",
         "john.doe@example.com",
         "123 Main St",
         "Anytown",
         "CA",
         12345
        ],
        [
         2,
         "Jane",
         "Smith",
         "555-555-5555",
         "jane.smith@example.com",
         "456 Elm St",
         "Othertown",
         "NY",
         67890
        ]
       ],
       "datasetInfos": [],
       "dbfsResultPath": null,
       "isJsonSchema": true,
       "metadata": {},
       "overflow": false,
       "plotOptions": {
        "customPlotOptions": {},
        "displayType": "table",
        "pivotAggregation": null,
        "pivotColumns": null,
        "xColumns": null,
        "yColumns": null
       },
       "removedWidgets": [],
       "schema": [
        {
         "metadata": "{}",
         "name": "customer_id",
         "type": "\"integer\""
        },
        {
         "metadata": "{}",
         "name": "first_name",
         "type": "\"string\""
        },
        {
         "metadata": "{}",
         "name": "last_name",
         "type": "\"string\""
        },
        {
         "metadata": "{}",
         "name": "phone",
         "type": "\"string\""
        },
        {
         "metadata": "{}",
         "name": "email",
         "type": "\"string\""
        },
        {
         "metadata": "{}",
         "name": "street",
         "type": "\"string\""
        },
        {
         "metadata": "{}",
         "name": "city",
         "type": "\"string\""
        },
        {
         "metadata": "{}",
         "name": "state",
         "type": "\"string\""
        },
        {
         "metadata": "{}",
         "name": "zip_code",
         "type": "\"integer\""
        }
       ],
       "type": "table"
      }
     },
     "output_type": "display_data"
    },
    {
     "output_type": "stream",
     "name": "stdout",
     "output_type": "stream",
     "text": [
      "Schema for customers:\nroot\n |-- customer_id: integer (nullable = true)\n |-- first_name: string (nullable = true)\n |-- last_name: string (nullable = true)\n |-- phone: string (nullable = true)\n |-- email: string (nullable = true)\n |-- street: string (nullable = true)\n |-- city: string (nullable = true)\n |-- state: string (nullable = true)\n |-- zip_code: integer (nullable = true)\n\nTable customers has been processed and saved to the gold layer.\nProcessing table: order_items\nSample data for order_items:\n"
     ]
    },
    {
     "output_type": "display_data",
     "data": {
      "text/html": [
       "<style scoped>\n",
       "  .table-result-container {\n",
       "    max-height: 300px;\n",
       "    overflow: auto;\n",
       "  }\n",
       "  table, th, td {\n",
       "    border: 1px solid black;\n",
       "    border-collapse: collapse;\n",
       "  }\n",
       "  th, td {\n",
       "    padding: 5px;\n",
       "  }\n",
       "  th {\n",
       "    text-align: left;\n",
       "  }\n",
       "</style><div class='table-result-container'><table class='table-result'><thead style='background-color: white'><tr><th>order_id</th><th>item_id</th><th>product_id</th><th>quantity</th><th>list_price</th><th>discount</th></tr></thead><tbody><tr><td>1</td><td>1</td><td>1</td><td>2</td><td>1200.00</td><td>0.00</td></tr><tr><td>1</td><td>2</td><td>3</td><td>1</td><td>50.00</td><td>0.10</td></tr><tr><td>2</td><td>1</td><td>2</td><td>1</td><td>1400.00</td><td>0.05</td></tr></tbody></table></div>"
      ]
     },
     "metadata": {
      "application/vnd.databricks.v1+output": {
       "addedWidgets": {},
       "aggData": [],
       "aggError": "",
       "aggOverflow": false,
       "aggSchema": [],
       "aggSeriesLimitReached": false,
       "aggType": "",
       "arguments": {},
       "columnCustomDisplayInfos": {},
       "data": [
        [
         1,
         1,
         1,
         2,
         "1200.00",
         "0.00"
        ],
        [
         1,
         2,
         3,
         1,
         "50.00",
         "0.10"
        ],
        [
         2,
         1,
         2,
         1,
         "1400.00",
         "0.05"
        ]
       ],
       "datasetInfos": [],
       "dbfsResultPath": null,
       "isJsonSchema": true,
       "metadata": {},
       "overflow": false,
       "plotOptions": {
        "customPlotOptions": {},
        "displayType": "table",
        "pivotAggregation": null,
        "pivotColumns": null,
        "xColumns": null,
        "yColumns": null
       },
       "removedWidgets": [],
       "schema": [
        {
         "metadata": "{}",
         "name": "order_id",
         "type": "\"integer\""
        },
        {
         "metadata": "{}",
         "name": "item_id",
         "type": "\"integer\""
        },
        {
         "metadata": "{}",
         "name": "product_id",
         "type": "\"integer\""
        },
        {
         "metadata": "{}",
         "name": "quantity",
         "type": "\"integer\""
        },
        {
         "metadata": "{}",
         "name": "list_price",
         "type": "\"decimal(10,2)\""
        },
        {
         "metadata": "{}",
         "name": "discount",
         "type": "\"decimal(10,2)\""
        }
       ],
       "type": "table"
      }
     },
     "output_type": "display_data"
    },
    {
     "output_type": "stream",
     "name": "stdout",
     "output_type": "stream",
     "text": [
      "Schema for order_items:\nroot\n |-- order_id: integer (nullable = true)\n |-- item_id: integer (nullable = true)\n |-- product_id: integer (nullable = true)\n |-- quantity: integer (nullable = true)\n |-- list_price: decimal(10,2) (nullable = true)\n |-- discount: decimal(10,2) (nullable = true)\n\nTable order_items has been processed and saved to the gold layer.\nProcessing table: orders\nSample data for orders:\n"
     ]
    },
    {
     "output_type": "display_data",
     "data": {
      "text/html": [
       "<style scoped>\n",
       "  .table-result-container {\n",
       "    max-height: 300px;\n",
       "    overflow: auto;\n",
       "  }\n",
       "  table, th, td {\n",
       "    border: 1px solid black;\n",
       "    border-collapse: collapse;\n",
       "  }\n",
       "  th, td {\n",
       "    padding: 5px;\n",
       "  }\n",
       "  th {\n",
       "    text-align: left;\n",
       "  }\n",
       "</style><div class='table-result-container'><table class='table-result'><thead style='background-color: white'><tr><th>order_id</th><th>customer_id</th><th>order_status</th><th>order_date</th><th>required_date</th><th>shipped_date</th><th>store_id</th><th>staff_id</th></tr></thead><tbody><tr><td>1</td><td>1</td><td>1</td><td>2024-09-01</td><td>2024-09-05</td><td>2024-09-03</td><td>1</td><td>1</td></tr><tr><td>2</td><td>2</td><td>2</td><td>2024-09-02</td><td>2024-09-06</td><td>null</td><td>1</td><td>2</td></tr></tbody></table></div>"
      ]
     },
     "metadata": {
      "application/vnd.databricks.v1+output": {
       "addedWidgets": {},
       "aggData": [],
       "aggError": "",
       "aggOverflow": false,
       "aggSchema": [],
       "aggSeriesLimitReached": false,
       "aggType": "",
       "arguments": {},
       "columnCustomDisplayInfos": {},
       "data": [
        [
         1,
         1,
         1,
         "2024-09-01",
         "2024-09-05",
         "2024-09-03",
         1,
         1
        ],
        [
         2,
         2,
         2,
         "2024-09-02",
         "2024-09-06",
         null,
         1,
         2
        ]
       ],
       "datasetInfos": [],
       "dbfsResultPath": null,
       "isJsonSchema": true,
       "metadata": {},
       "overflow": false,
       "plotOptions": {
        "customPlotOptions": {},
        "displayType": "table",
        "pivotAggregation": null,
        "pivotColumns": null,
        "xColumns": null,
        "yColumns": null
       },
       "removedWidgets": [],
       "schema": [
        {
         "metadata": "{}",
         "name": "order_id",
         "type": "\"integer\""
        },
        {
         "metadata": "{}",
         "name": "customer_id",
         "type": "\"integer\""
        },
        {
         "metadata": "{}",
         "name": "order_status",
         "type": "\"integer\""
        },
        {
         "metadata": "{}",
         "name": "order_date",
         "type": "\"date\""
        },
        {
         "metadata": "{}",
         "name": "required_date",
         "type": "\"date\""
        },
        {
         "metadata": "{}",
         "name": "shipped_date",
         "type": "\"date\""
        },
        {
         "metadata": "{}",
         "name": "store_id",
         "type": "\"integer\""
        },
        {
         "metadata": "{}",
         "name": "staff_id",
         "type": "\"integer\""
        }
       ],
       "type": "table"
      }
     },
     "output_type": "display_data"
    },
    {
     "output_type": "stream",
     "name": "stdout",
     "output_type": "stream",
     "text": [
      "Schema for orders:\nroot\n |-- order_id: integer (nullable = true)\n |-- customer_id: integer (nullable = true)\n |-- order_status: integer (nullable = true)\n |-- order_date: date (nullable = true)\n |-- required_date: date (nullable = true)\n |-- shipped_date: date (nullable = true)\n |-- store_id: integer (nullable = true)\n |-- staff_id: integer (nullable = true)\n\nTable orders has been processed and saved to the gold layer.\nProcessing table: stores\nSample data for stores:\n"
     ]
    },
    {
     "output_type": "display_data",
     "data": {
      "text/html": [
       "<style scoped>\n",
       "  .table-result-container {\n",
       "    max-height: 300px;\n",
       "    overflow: auto;\n",
       "  }\n",
       "  table, th, td {\n",
       "    border: 1px solid black;\n",
       "    border-collapse: collapse;\n",
       "  }\n",
       "  th, td {\n",
       "    padding: 5px;\n",
       "  }\n",
       "  th {\n",
       "    text-align: left;\n",
       "  }\n",
       "</style><div class='table-result-container'><table class='table-result'><thead style='background-color: white'><tr><th>store_id</th><th>store_name</th><th>phone</th><th>email</th><th>street</th><th>city</th><th>state</th><th>zip_code</th></tr></thead><tbody><tr><td>1</td><td>Downtown Bike Store</td><td>123-456-7890</td><td>downtown@example.com</td><td>123 Main St</td><td>Anytown</td><td>CA</td><td>12345</td></tr><tr><td>2</td><td>Uptown Bike Store</td><td>555-555-5555</td><td>uptown@example.com</td><td>456 Elm St</td><td>Othertown</td><td>NY</td><td>67890</td></tr></tbody></table></div>"
      ]
     },
     "metadata": {
      "application/vnd.databricks.v1+output": {
       "addedWidgets": {},
       "aggData": [],
       "aggError": "",
       "aggOverflow": false,
       "aggSchema": [],
       "aggSeriesLimitReached": false,
       "aggType": "",
       "arguments": {},
       "columnCustomDisplayInfos": {},
       "data": [
        [
         1,
         "Downtown Bike Store",
         "123-456-7890",
         "downtown@example.com",
         "123 Main St",
         "Anytown",
         "CA",
         12345
        ],
        [
         2,
         "Uptown Bike Store",
         "555-555-5555",
         "uptown@example.com",
         "456 Elm St",
         "Othertown",
         "NY",
         67890
        ]
       ],
       "datasetInfos": [],
       "dbfsResultPath": null,
       "isJsonSchema": true,
       "metadata": {},
       "overflow": false,
       "plotOptions": {
        "customPlotOptions": {},
        "displayType": "table",
        "pivotAggregation": null,
        "pivotColumns": null,
        "xColumns": null,
        "yColumns": null
       },
       "removedWidgets": [],
       "schema": [
        {
         "metadata": "{}",
         "name": "store_id",
         "type": "\"integer\""
        },
        {
         "metadata": "{}",
         "name": "store_name",
         "type": "\"string\""
        },
        {
         "metadata": "{}",
         "name": "phone",
         "type": "\"string\""
        },
        {
         "metadata": "{}",
         "name": "email",
         "type": "\"string\""
        },
        {
         "metadata": "{}",
         "name": "street",
         "type": "\"string\""
        },
        {
         "metadata": "{}",
         "name": "city",
         "type": "\"string\""
        },
        {
         "metadata": "{}",
         "name": "state",
         "type": "\"string\""
        },
        {
         "metadata": "{}",
         "name": "zip_code",
         "type": "\"integer\""
        }
       ],
       "type": "table"
      }
     },
     "output_type": "display_data"
    },
    {
     "output_type": "stream",
     "name": "stdout",
     "output_type": "stream",
     "text": [
      "Schema for stores:\nroot\n |-- store_id: integer (nullable = true)\n |-- store_name: string (nullable = true)\n |-- phone: string (nullable = true)\n |-- email: string (nullable = true)\n |-- street: string (nullable = true)\n |-- city: string (nullable = true)\n |-- state: string (nullable = true)\n |-- zip_code: integer (nullable = true)\n\nTable stores has been processed and saved to the gold layer.\nAll tables have been processed successfully.\n"
     ]
    },
    {
     "output_type": "execute_result",
     "data": {
      "text/plain": [
       "'\\ndef cleanup_gold_layer():\\n    for table_name in TABLE_NAMES:\\n        gold_path = f\"{GOLD_BASE_PATH}/{table_name}\"\\n        dbutils.fs.rm(gold_path, recurse=True)\\n        print(f\"Cleaned up {table_name} from gold layer.\")\\n\\n# Uncomment the following line to run the cleanup\\n# cleanup_gold_layer()\\n'"
      ]
     },
     "execution_count": 28,
     "metadata": {},
     "output_type": "execute_result"
    }
   ],
   "source": [
    "# Databricks notebook source\n",
    "# MAGIC %md\n",
    "# MAGIC # Silver to Gold Data Transformation\n",
    "# MAGIC \n",
    "# MAGIC This notebook processes data from the silver layer, applies necessary transformations, and saves the results to the gold layer.\n",
    "\n",
    "# COMMAND ----------\n",
    "\n",
    "# MAGIC %md\n",
    "# MAGIC ## Setup and Imports\n",
    "\n",
    "# COMMAND ----------\n",
    "\n",
    "from pyspark.sql import DataFrame\n",
    "from pyspark.sql.functions import coalesce, col, lit, lead\n",
    "from pyspark.sql.types import IntegerType, DateType, DecimalType\n",
    "from pyspark.sql.window import Window\n",
    "import re\n",
    "\n",
    "# COMMAND ----------\n",
    "\n",
    "# MAGIC %md\n",
    "# MAGIC ## Configuration\n",
    "\n",
    "# COMMAND ----------\n",
    "\n",
    "# Define the base paths for silver and gold layers\n",
    "SILVER_BASE_PATH = \"/mnt/ankandatalakesilverlayer/sales\"\n",
    "GOLD_BASE_PATH = \"/mnt/ankandatalakegoldlayer/sales\"\n",
    "\n",
    "# List of tables to process\n",
    "TABLE_NAMES = [\"customers\", \"order_items\", \"orders\", \"stores\"]\n",
    "\n",
    "# COMMAND ----------\n",
    "\n",
    "# MAGIC %md\n",
    "# MAGIC ## Helper Functions\n",
    "\n",
    "# COMMAND ----------\n",
    "\n",
    "def rectify_column_data_types(df: DataFrame, table_name: str) -> DataFrame:\n",
    "    \"\"\"\n",
    "    Rectify column data types based on column names and table-specific rules.\n",
    "    \"\"\"\n",
    "    for column_name, data_type in df.dtypes:\n",
    "        if column_name == \"zip_code\" and data_type == \"string\":\n",
    "            df = df.withColumn(column_name, col(column_name).cast(IntegerType()))\n",
    "        elif column_name.endswith(\"_date\") and data_type == \"string\":\n",
    "            df = df.withColumn(column_name, col(column_name).cast(DateType()))\n",
    "        elif column_name in [\"list_price\", \"discount\"] and table_name == \"order_items\":\n",
    "            df = df.withColumn(column_name, col(column_name).cast(DecimalType(10, 2)))\n",
    "    return df\n",
    "\n",
    "def replace_shipped_date_null(df: DataFrame) -> DataFrame:\n",
    "    \"\"\"\n",
    "    Replace null values in shipped_date with the subsequent row's required_date.\n",
    "    \"\"\"\n",
    "    if \"shipped_date\" in df.columns and \"required_date\" in df.columns:\n",
    "        window = Window.orderBy(\"order_date\")\n",
    "        df = df.withColumn(\n",
    "            \"shipped_date\",\n",
    "            coalesce(\n",
    "                col(\"shipped_date\"),\n",
    "                lead(\"required_date\").over(window)\n",
    "            )\n",
    "        )\n",
    "    return df\n",
    "\n",
    "# COMMAND ----------\n",
    "\n",
    "# MAGIC %md\n",
    "# MAGIC ## Main Processing Function\n",
    "\n",
    "# COMMAND ----------\n",
    "\n",
    "def process_table(table_name: str) -> None:\n",
    "    \"\"\"\n",
    "    Process a single table: read from silver, apply transformations, and write to gold.\n",
    "    \"\"\"\n",
    "    print(f\"Processing table: {table_name}\")\n",
    "    \n",
    "    # Read the table from the silver layer\n",
    "    silver_path = f\"{SILVER_BASE_PATH}/{table_name}\"\n",
    "    df = spark.read.format(\"delta\").load(silver_path)\n",
    "    \n",
    "    # Apply data type rectification\n",
    "    df = rectify_column_data_types(df, table_name)\n",
    "    \n",
    "    # Replace shipped_date null values (only for orders table)\n",
    "    if table_name == \"orders\":\n",
    "        df = replace_shipped_date_null(df)\n",
    "    \n",
    "    # Display sample data and schema\n",
    "    print(f\"Sample data for {table_name}:\")\n",
    "    display(df.limit(5))\n",
    "    \n",
    "    print(f\"Schema for {table_name}:\")\n",
    "    df.printSchema()\n",
    "    \n",
    "    # Write the processed data to the gold layer\n",
    "    gold_path = f\"{GOLD_BASE_PATH}/{table_name}\"\n",
    "    df.write.format(\"delta\").mode(\"overwrite\").option(\"overwriteSchema\", \"true\").saveAsTable(f\"delta.`{gold_path}`\")\n",
    "    print(f\"Table {table_name} has been processed and saved to the gold layer.\")\n",
    "\n",
    "# COMMAND ----------\n",
    "\n",
    "# MAGIC %md\n",
    "# MAGIC ## Main Execution\n",
    "\n",
    "# COMMAND ----------\n",
    "\n",
    "def main():\n",
    "    for table_name in TABLE_NAMES:\n",
    "        process_table(table_name)\n",
    "    print(\"All tables have been processed successfully.\")\n",
    "\n",
    "# Run the main function\n",
    "main()\n",
    "\n",
    "# COMMAND ----------\n",
    "\n",
    "# MAGIC %md\n",
    "# MAGIC ## Verification (Optional)\n",
    "\n",
    "# COMMAND ----------\n",
    "\n",
    "# MAGIC %md\n",
    "# MAGIC You can use the following code to verify the data in the gold layer:\n",
    "\n",
    "# COMMAND ----------\n",
    "\n",
    "def verify_gold_data(table_name: str):\n",
    "    gold_path = f\"{GOLD_BASE_PATH}/{table_name}\"\n",
    "    df = spark.read.format(\"delta\").load(gold_path)\n",
    "    print(f\"Verifying data for {table_name} in gold layer:\")\n",
    "    display(df.limit(5))\n",
    "    df.printSchema()\n",
    "\n",
    "# Uncomment and run the following lines to verify each table\n",
    "# verify_gold_data(\"customers\")\n",
    "# verify_gold_data(\"order_items\")\n",
    "# verify_gold_data(\"orders\")\n",
    "# verify_gold_data(\"stores\")\n",
    "\n",
    "# COMMAND ----------\n",
    "\n",
    "# MAGIC %md\n",
    "# MAGIC ## Cleanup (Optional)\n",
    "\n",
    "# COMMAND ----------\n",
    "\n",
    "# MAGIC %md\n",
    "# MAGIC If you need to clean up the gold layer or reset the data, you can use the following function:\n",
    "\n",
    "# COMMAND ----------\n",
    "'''\n",
    "def cleanup_gold_layer():\n",
    "    for table_name in TABLE_NAMES:\n",
    "        gold_path = f\"{GOLD_BASE_PATH}/{table_name}\"\n",
    "        dbutils.fs.rm(gold_path, recurse=True)\n",
    "        print(f\"Cleaned up {table_name} from gold layer.\")\n",
    "\n",
    "# Uncomment the following line to run the cleanup\n",
    "# cleanup_gold_layer()\n",
    "'''"
   ]
  },
  {
   "cell_type": "code",
   "execution_count": 0,
   "metadata": {
    "application/vnd.databricks.v1+cell": {
     "cellMetadata": {
      "byteLimit": 2048000,
      "rowLimit": 10000
     },
     "inputWidgets": {},
     "nuid": "ed8e681c-5b40-4d90-bea2-ab8c9d7f8824",
     "showTitle": false,
     "title": ""
    }
   },
   "outputs": [
    {
     "output_type": "display_data",
     "data": {
      "text/html": [
       "<style scoped>\n",
       "  .table-result-container {\n",
       "    max-height: 300px;\n",
       "    overflow: auto;\n",
       "  }\n",
       "  table, th, td {\n",
       "    border: 1px solid black;\n",
       "    border-collapse: collapse;\n",
       "  }\n",
       "  th, td {\n",
       "    padding: 5px;\n",
       "  }\n",
       "  th {\n",
       "    text-align: left;\n",
       "  }\n",
       "</style><div class='table-result-container'><table class='table-result'><thead style='background-color: white'><tr><th>order_id</th><th>customer_id</th><th>order_status</th><th>order_date</th><th>required_date</th><th>shipped_date</th><th>store_id</th><th>staff_id</th></tr></thead><tbody><tr><td>1</td><td>1</td><td>1</td><td>2024-09-01</td><td>2024-09-05</td><td>2024-09-03</td><td>1</td><td>1</td></tr><tr><td>2</td><td>2</td><td>2</td><td>2024-09-02</td><td>2024-09-06</td><td>2024-09-06</td><td>1</td><td>2</td></tr></tbody></table></div>"
      ]
     },
     "metadata": {
      "application/vnd.databricks.v1+output": {
       "addedWidgets": {},
       "aggData": [],
       "aggError": "",
       "aggOverflow": false,
       "aggSchema": [],
       "aggSeriesLimitReached": false,
       "aggType": "",
       "arguments": {},
       "columnCustomDisplayInfos": {},
       "data": [
        [
         1,
         1,
         1,
         "2024-09-01",
         "2024-09-05",
         "2024-09-03",
         1,
         1
        ],
        [
         2,
         2,
         2,
         "2024-09-02",
         "2024-09-06",
         "2024-09-06",
         1,
         2
        ]
       ],
       "datasetInfos": [],
       "dbfsResultPath": null,
       "isJsonSchema": true,
       "metadata": {},
       "overflow": false,
       "plotOptions": {
        "customPlotOptions": {},
        "displayType": "table",
        "pivotAggregation": null,
        "pivotColumns": null,
        "xColumns": null,
        "yColumns": null
       },
       "removedWidgets": [],
       "schema": [
        {
         "metadata": "{}",
         "name": "order_id",
         "type": "\"integer\""
        },
        {
         "metadata": "{}",
         "name": "customer_id",
         "type": "\"integer\""
        },
        {
         "metadata": "{}",
         "name": "order_status",
         "type": "\"integer\""
        },
        {
         "metadata": "{}",
         "name": "order_date",
         "type": "\"string\""
        },
        {
         "metadata": "{}",
         "name": "required_date",
         "type": "\"string\""
        },
        {
         "metadata": "{}",
         "name": "shipped_date",
         "type": "\"string\""
        },
        {
         "metadata": "{}",
         "name": "store_id",
         "type": "\"integer\""
        },
        {
         "metadata": "{}",
         "name": "staff_id",
         "type": "\"integer\""
        }
       ],
       "type": "table"
      }
     },
     "output_type": "display_data"
    }
   ],
   "source": [
    "from pyspark.sql.functions import coalesce, when, col\n",
    "from pyspark.sql.window import Window\n",
    "\n",
    "# Read the orders table\n",
    "orders_df = spark.read.format(\"delta\").load(\"/mnt/ankandatalakesilverlayer/sales/orders\")\n",
    "\n",
    "# Define a window specification sorted by order_id and order_date\n",
    "window = Window.orderBy(\"order_id\", \"order_date\")\n",
    "\n",
    "# Replace null shipped_date with the current row's required_date\n",
    "orders_df = orders_df.withColumn(\n",
    "    \"shipped_date\",\n",
    "    when(col(\"shipped_date\").isNull(), col(\"required_date\")).otherwise(col(\"shipped_date\"))\n",
    ")\n",
    "\n",
    "# Display the updated DataFrame\n",
    "display(orders_df)\n",
    "\n",
    "# Optionally, write the updated DataFrame back to the gold layer\n",
    "orders_df.write.format(\"delta\").mode(\"overwrite\").option(\"overwriteSchema\", \"true\").saveAsTable(\"delta.`/mnt/ankandatalakegoldlayer/sales/orders`\")"
   ]
  },
  {
   "cell_type": "code",
   "execution_count": 0,
   "metadata": {
    "application/vnd.databricks.v1+cell": {
     "cellMetadata": {
      "byteLimit": 2048000,
      "rowLimit": 10000
     },
     "inputWidgets": {},
     "nuid": "5f73d479-90c2-4393-9a65-5f100f523d96",
     "showTitle": false,
     "title": ""
    }
   },
   "outputs": [],
   "source": [
    "# orders_df.write.format(\"delta\").option(\"mergeSchema\", \"true\").mode(\"overwrite\").save(\"/mnt/ankandatalakegoldlayer/sales/orders\")"
   ]
  },
  {
   "cell_type": "code",
   "execution_count": 0,
   "metadata": {
    "application/vnd.databricks.v1+cell": {
     "cellMetadata": {
      "byteLimit": 2048000,
      "rowLimit": 10000
     },
     "inputWidgets": {},
     "nuid": "9d331b51-aa37-4b9c-9d1d-929e66834c33",
     "showTitle": false,
     "title": ""
    }
   },
   "outputs": [
    {
     "output_type": "display_data",
     "data": {
      "text/html": [
       "<style scoped>\n",
       "  .table-result-container {\n",
       "    max-height: 300px;\n",
       "    overflow: auto;\n",
       "  }\n",
       "  table, th, td {\n",
       "    border: 1px solid black;\n",
       "    border-collapse: collapse;\n",
       "  }\n",
       "  th, td {\n",
       "    padding: 5px;\n",
       "  }\n",
       "  th {\n",
       "    text-align: left;\n",
       "  }\n",
       "</style><div class='table-result-container'><table class='table-result'><thead style='background-color: white'><tr><th>order_id</th><th>item_id</th><th>product_id</th><th>quantity</th><th>list_price</th><th>discount</th></tr></thead><tbody><tr><td>1</td><td>1</td><td>1</td><td>2</td><td>1200.00</td><td>0.00</td></tr><tr><td>1</td><td>2</td><td>3</td><td>1</td><td>50.00</td><td>0.10</td></tr><tr><td>2</td><td>1</td><td>2</td><td>1</td><td>1400.00</td><td>0.05</td></tr></tbody></table></div>"
      ]
     },
     "metadata": {
      "application/vnd.databricks.v1+output": {
       "addedWidgets": {},
       "aggData": [],
       "aggError": "",
       "aggOverflow": false,
       "aggSchema": [],
       "aggSeriesLimitReached": false,
       "aggType": "",
       "arguments": {},
       "columnCustomDisplayInfos": {},
       "data": [
        [
         1,
         1,
         1,
         2,
         "1200.00",
         "0.00"
        ],
        [
         1,
         2,
         3,
         1,
         "50.00",
         "0.10"
        ],
        [
         2,
         1,
         2,
         1,
         "1400.00",
         "0.05"
        ]
       ],
       "datasetInfos": [],
       "dbfsResultPath": null,
       "isJsonSchema": true,
       "metadata": {},
       "overflow": false,
       "plotOptions": {
        "customPlotOptions": {},
        "displayType": "table",
        "pivotAggregation": null,
        "pivotColumns": null,
        "xColumns": null,
        "yColumns": null
       },
       "removedWidgets": [],
       "schema": [
        {
         "metadata": "{}",
         "name": "order_id",
         "type": "\"integer\""
        },
        {
         "metadata": "{}",
         "name": "item_id",
         "type": "\"integer\""
        },
        {
         "metadata": "{}",
         "name": "product_id",
         "type": "\"integer\""
        },
        {
         "metadata": "{}",
         "name": "quantity",
         "type": "\"integer\""
        },
        {
         "metadata": "{}",
         "name": "list_price",
         "type": "\"decimal(10,2)\""
        },
        {
         "metadata": "{}",
         "name": "discount",
         "type": "\"decimal(10,2)\""
        }
       ],
       "type": "table"
      }
     },
     "output_type": "display_data"
    }
   ],
   "source": [
    "input_path = \"/mnt/ankandatalakegoldlayer/sales/order_items/\"\n",
    "df = spark.read.format(\"delta\").load(input_path)\n",
    "display(df)"
   ]
  }
 ],
 "metadata": {
  "application/vnd.databricks.v1+notebook": {
   "dashboards": [],
   "environmentMetadata": null,
   "language": "python",
   "notebookMetadata": {
    "pythonIndentUnit": 4
   },
   "notebookName": "silver to gold",
   "widgets": {}
  }
 },
 "nbformat": 4,
 "nbformat_minor": 0
}
